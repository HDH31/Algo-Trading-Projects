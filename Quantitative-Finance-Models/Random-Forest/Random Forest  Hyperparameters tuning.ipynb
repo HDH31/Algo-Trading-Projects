{
 "cells": [
  {
   "cell_type": "markdown",
   "id": "b150d07d",
   "metadata": {},
   "source": [
    "# Random Forest\n",
    "In this notebook, we will develop a Random Forest machine learning model to predict the next day's return of the HSCEI Index. We will determine the optimal hyperparameters for the model using both grid search and random search techniques.<br><br>\n",
    "**The notebook is structured as follows**\n",
    "1. Import the data\n",
    "2. Define predictor variables and a target variable\n",
    "3. Split the data into train and test dataset\n",
    "\n",
    "## Import Libraries"
   ]
  },
  {
   "cell_type": "code",
   "execution_count": 1,
   "id": "5fbd6fd3",
   "metadata": {},
   "outputs": [],
   "source": [
    "# Data manipulation\n",
    "import pandas as pd\n",
    "import numpy as np\n",
    "\n",
    "import yfinance as yf\n",
    "import datetime\n",
    "\n",
    "# Machine learning libraries\n",
    "from sklearn.model_selection import RandomizedSearchCV\n",
    "from sklearn.ensemble import RandomForestRegressor\n",
    "from sklearn.model_selection import GridSearchCV\n",
    "\n",
    "#Evaluation metrics\n",
    "from sklearn.metrics import mean_absolute_error, mean_squared_error"
   ]
  },
  {
   "cell_type": "code",
   "execution_count": 2,
   "id": "2510c8cb",
   "metadata": {},
   "outputs": [
    {
     "name": "stdout",
     "output_type": "stream",
     "text": [
      "[*********************100%***********************]  1 of 1 completed\n"
     ]
    },
    {
     "data": {
      "text/html": [
       "<div>\n",
       "<style scoped>\n",
       "    .dataframe tbody tr th:only-of-type {\n",
       "        vertical-align: middle;\n",
       "    }\n",
       "\n",
       "    .dataframe tbody tr th {\n",
       "        vertical-align: top;\n",
       "    }\n",
       "\n",
       "    .dataframe thead th {\n",
       "        text-align: right;\n",
       "    }\n",
       "</style>\n",
       "<table border=\"1\" class=\"dataframe\">\n",
       "  <thead>\n",
       "    <tr style=\"text-align: right;\">\n",
       "      <th></th>\n",
       "      <th>Open</th>\n",
       "      <th>High</th>\n",
       "      <th>Low</th>\n",
       "      <th>Close</th>\n",
       "      <th>Adj Close</th>\n",
       "      <th>Volume</th>\n",
       "    </tr>\n",
       "    <tr>\n",
       "      <th>Date</th>\n",
       "      <th></th>\n",
       "      <th></th>\n",
       "      <th></th>\n",
       "      <th></th>\n",
       "      <th></th>\n",
       "      <th></th>\n",
       "    </tr>\n",
       "  </thead>\n",
       "  <tbody>\n",
       "    <tr>\n",
       "      <th>2010-01-04</th>\n",
       "      <td>12791.330078</td>\n",
       "      <td>12928.769531</td>\n",
       "      <td>12642.099609</td>\n",
       "      <td>12750.549805</td>\n",
       "      <td>12750.549805</td>\n",
       "      <td>0</td>\n",
       "    </tr>\n",
       "    <tr>\n",
       "      <th>2010-01-05</th>\n",
       "      <td>12910.370117</td>\n",
       "      <td>13157.769531</td>\n",
       "      <td>12868.650391</td>\n",
       "      <td>13142.030273</td>\n",
       "      <td>13142.030273</td>\n",
       "      <td>0</td>\n",
       "    </tr>\n",
       "    <tr>\n",
       "      <th>2010-01-06</th>\n",
       "      <td>13175.110352</td>\n",
       "      <td>13350.120117</td>\n",
       "      <td>13114.740234</td>\n",
       "      <td>13246.209961</td>\n",
       "      <td>13246.209961</td>\n",
       "      <td>0</td>\n",
       "    </tr>\n",
       "    <tr>\n",
       "      <th>2010-01-07</th>\n",
       "      <td>13354.969727</td>\n",
       "      <td>13354.969727</td>\n",
       "      <td>13019.030273</td>\n",
       "      <td>13073.200195</td>\n",
       "      <td>13073.200195</td>\n",
       "      <td>0</td>\n",
       "    </tr>\n",
       "    <tr>\n",
       "      <th>2010-01-08</th>\n",
       "      <td>13082.700195</td>\n",
       "      <td>13131.049805</td>\n",
       "      <td>12952.179688</td>\n",
       "      <td>13035.089844</td>\n",
       "      <td>13035.089844</td>\n",
       "      <td>0</td>\n",
       "    </tr>\n",
       "  </tbody>\n",
       "</table>\n",
       "</div>"
      ],
      "text/plain": [
       "                    Open          High           Low         Close  \\\n",
       "Date                                                                 \n",
       "2010-01-04  12791.330078  12928.769531  12642.099609  12750.549805   \n",
       "2010-01-05  12910.370117  13157.769531  12868.650391  13142.030273   \n",
       "2010-01-06  13175.110352  13350.120117  13114.740234  13246.209961   \n",
       "2010-01-07  13354.969727  13354.969727  13019.030273  13073.200195   \n",
       "2010-01-08  13082.700195  13131.049805  12952.179688  13035.089844   \n",
       "\n",
       "               Adj Close  Volume  \n",
       "Date                              \n",
       "2010-01-04  12750.549805       0  \n",
       "2010-01-05  13142.030273       0  \n",
       "2010-01-06  13246.209961       0  \n",
       "2010-01-07  13073.200195       0  \n",
       "2010-01-08  13035.089844       0  "
      ]
     },
     "execution_count": 2,
     "metadata": {},
     "output_type": "execute_result"
    }
   ],
   "source": [
    "# Define the ticker symbol for HSCEI index\n",
    "hscei_ticker = '^HSCE'  # HSCEI ticker symbol\n",
    "\n",
    "# Define the date range\n",
    "start_date = datetime.datetime(2010, 1, 1)\n",
    "end_date = datetime.datetime(2020, 1, 5)\n",
    "\n",
    "# Fetch the HSCEI data\n",
    "data = yf.download(hscei_ticker, start=start_date, end=end_date)\n",
    "\n",
    "# Print the first few rows of the data\n",
    "data.head()"
   ]
  },
  {
   "cell_type": "markdown",
   "id": "622f70d0",
   "metadata": {},
   "source": [
    "Here we can clearly see our data has zero NaN values.\n",
    "<a id='input'></a>\n",
    "## Create Input Parameters\n",
    "\n",
    "We will create custom indicators, which will help in making the prediction more accurate. \n",
    "\n",
    "1. `ret1`,`ret5`,`ret10`,`ret20`,`ret40`: 1-days, 5-days, 10-days, 20-days and 40-days returns of `Close` prices, respectively.\n",
    "2. `std5`,`std10`,`std20`,`std40`: 5-days, 10-days, 20-days and 40-days standard deviation of `Close` prices, respectively.\n"
   ]
  },
  {
   "cell_type": "code",
   "execution_count": 3,
   "id": "90362712",
   "metadata": {},
   "outputs": [],
   "source": [
    "# Returns\n",
    "data['ret1'] = data['Adj Close'].pct_change()\n",
    "data['ret5'] = data.ret1.rolling(5).sum()\n",
    "data['ret10'] = data.ret1.rolling(10).sum()\n",
    "data['ret20'] = data.ret1.rolling(20).sum()\n",
    "data['ret40'] = data.ret1.rolling(40).sum()\n",
    "\n",
    "# Standard Deviation\n",
    "data['std5'] = data.ret1.rolling(5).std()\n",
    "data['std10'] = data.ret1.rolling(10).std()\n",
    "data['std20'] = data.ret1.rolling(20).std()\n",
    "data['std40'] = data.ret1.rolling(40).std()\n",
    "\n",
    "# Future returns\n",
    "data['retFut1'] = data.ret1.shift(-1)\n",
    "\n",
    "# Define predictor variables (X) and a target variable (y)\n",
    "data = data.dropna()\n",
    "predictor_list = ['ret1', 'ret5', 'ret10', 'ret20',\n",
    "                  'ret40', 'std5', 'std10', 'std20', 'std40']\n",
    "X = data[predictor_list]\n",
    "y = data.retFut1\n",
    "\n",
    "# Split the data into train and test dataset\n",
    "train_length = int(len(data)*0.80)\n",
    "X_train = X[:train_length]\n",
    "X_test = X[train_length:]\n",
    "y_train = y[:train_length]\n",
    "y_test = y[train_length:]"
   ]
  },
  {
   "cell_type": "markdown",
   "id": "3b34a6b6",
   "metadata": {},
   "source": [
    "The key hyperparameters in the random forest method are\n",
    "- n_estimators,\n",
    "- max_features, \n",
    "- max_depth, \n",
    "- min_samples_leaf, \n",
    "- and bootstrap.   \n",
    "\n",
    "We have defined below a range of values for each of these hyperparameters."
   ]
  },
  {
   "cell_type": "code",
   "execution_count": 4,
   "id": "f0219909",
   "metadata": {},
   "outputs": [
    {
     "data": {
      "text/plain": [
       "{'n_estimators': [10, 12, 15, 17, 20],\n",
       " 'max_features': [0.3, 0.48, 0.65, 0.82, 1.0],\n",
       " 'max_depth': [2, 4, 6, 8, 10],\n",
       " 'min_samples_leaf': [300, 333, 366, 400, 433, 466, 500, 533, 566, 600],\n",
       " 'bootstrap': [True, False]}"
      ]
     },
     "execution_count": 4,
     "metadata": {},
     "output_type": "execute_result"
    }
   ],
   "source": [
    "# Number of trees in random forest\n",
    "n_estimators = [int(x) for x in np.linspace(start=10, stop=20, num=5)]\n",
    "\n",
    "# Number of features to consider at every split\n",
    "max_features = [round(x, 2) for x in np.linspace(start=0.3, stop=1.0, num=5)]\n",
    "\n",
    "# Max depth of the tree\n",
    "max_depth = [int(round(x, 2)) for x in np.linspace(start=2, stop=10, num=5)]\n",
    "\n",
    "# Minimum number of samples required at each leaf node\n",
    "min_samples_leaf = [int(x) for x in np.linspace(start=300, stop=600, num=10)]\n",
    "\n",
    "# Method of selecting training subset for training each tree\n",
    "bootstrap = [True, False]\n",
    "\n",
    "# Save these parameters in a dictionry\n",
    "param_grid = {'n_estimators': n_estimators,\n",
    "              'max_features': max_features,\n",
    "              'max_depth': max_depth,\n",
    "              'min_samples_leaf': min_samples_leaf,\n",
    "              'bootstrap': bootstrap\n",
    "              }\n",
    "\n",
    "# Print the dictionary\n",
    "param_grid"
   ]
  },
  {
   "cell_type": "code",
   "execution_count": 5,
   "id": "ae170804",
   "metadata": {},
   "outputs": [],
   "source": [
    "# Create the base model to tune\n",
    "random_forest = RandomForestRegressor()"
   ]
  },
  {
   "cell_type": "markdown",
   "id": "793add1d",
   "metadata": {},
   "source": [
    "The RandomizedSearchCV takes the following parameter as input\n",
    "\n",
    "1. estimator: The base estimator model for which the best hyperparameter values are found.\n",
    "2. param_distributions: Dictionary of parameter names and list of values to try.\n",
    "3. n_iter: Number of parameters that are tried to find the best values.\n",
    "4. random_state: The random seed value.\n",
    "5. cv: cross-validation generator or iterable."
   ]
  },
  {
   "cell_type": "code",
   "execution_count": 6,
   "id": "e482c244",
   "metadata": {},
   "outputs": [
    {
     "data": {
      "text/html": [
       "<style>#sk-container-id-1 {color: black;background-color: white;}#sk-container-id-1 pre{padding: 0;}#sk-container-id-1 div.sk-toggleable {background-color: white;}#sk-container-id-1 label.sk-toggleable__label {cursor: pointer;display: block;width: 100%;margin-bottom: 0;padding: 0.3em;box-sizing: border-box;text-align: center;}#sk-container-id-1 label.sk-toggleable__label-arrow:before {content: \"▸\";float: left;margin-right: 0.25em;color: #696969;}#sk-container-id-1 label.sk-toggleable__label-arrow:hover:before {color: black;}#sk-container-id-1 div.sk-estimator:hover label.sk-toggleable__label-arrow:before {color: black;}#sk-container-id-1 div.sk-toggleable__content {max-height: 0;max-width: 0;overflow: hidden;text-align: left;background-color: #f0f8ff;}#sk-container-id-1 div.sk-toggleable__content pre {margin: 0.2em;color: black;border-radius: 0.25em;background-color: #f0f8ff;}#sk-container-id-1 input.sk-toggleable__control:checked~div.sk-toggleable__content {max-height: 200px;max-width: 100%;overflow: auto;}#sk-container-id-1 input.sk-toggleable__control:checked~label.sk-toggleable__label-arrow:before {content: \"▾\";}#sk-container-id-1 div.sk-estimator input.sk-toggleable__control:checked~label.sk-toggleable__label {background-color: #d4ebff;}#sk-container-id-1 div.sk-label input.sk-toggleable__control:checked~label.sk-toggleable__label {background-color: #d4ebff;}#sk-container-id-1 input.sk-hidden--visually {border: 0;clip: rect(1px 1px 1px 1px);clip: rect(1px, 1px, 1px, 1px);height: 1px;margin: -1px;overflow: hidden;padding: 0;position: absolute;width: 1px;}#sk-container-id-1 div.sk-estimator {font-family: monospace;background-color: #f0f8ff;border: 1px dotted black;border-radius: 0.25em;box-sizing: border-box;margin-bottom: 0.5em;}#sk-container-id-1 div.sk-estimator:hover {background-color: #d4ebff;}#sk-container-id-1 div.sk-parallel-item::after {content: \"\";width: 100%;border-bottom: 1px solid gray;flex-grow: 1;}#sk-container-id-1 div.sk-label:hover label.sk-toggleable__label {background-color: #d4ebff;}#sk-container-id-1 div.sk-serial::before {content: \"\";position: absolute;border-left: 1px solid gray;box-sizing: border-box;top: 0;bottom: 0;left: 50%;z-index: 0;}#sk-container-id-1 div.sk-serial {display: flex;flex-direction: column;align-items: center;background-color: white;padding-right: 0.2em;padding-left: 0.2em;position: relative;}#sk-container-id-1 div.sk-item {position: relative;z-index: 1;}#sk-container-id-1 div.sk-parallel {display: flex;align-items: stretch;justify-content: center;background-color: white;position: relative;}#sk-container-id-1 div.sk-item::before, #sk-container-id-1 div.sk-parallel-item::before {content: \"\";position: absolute;border-left: 1px solid gray;box-sizing: border-box;top: 0;bottom: 0;left: 50%;z-index: -1;}#sk-container-id-1 div.sk-parallel-item {display: flex;flex-direction: column;z-index: 1;position: relative;background-color: white;}#sk-container-id-1 div.sk-parallel-item:first-child::after {align-self: flex-end;width: 50%;}#sk-container-id-1 div.sk-parallel-item:last-child::after {align-self: flex-start;width: 50%;}#sk-container-id-1 div.sk-parallel-item:only-child::after {width: 0;}#sk-container-id-1 div.sk-dashed-wrapped {border: 1px dashed gray;margin: 0 0.4em 0.5em 0.4em;box-sizing: border-box;padding-bottom: 0.4em;background-color: white;}#sk-container-id-1 div.sk-label label {font-family: monospace;font-weight: bold;display: inline-block;line-height: 1.2em;}#sk-container-id-1 div.sk-label-container {text-align: center;}#sk-container-id-1 div.sk-container {/* jupyter's `normalize.less` sets `[hidden] { display: none; }` but bootstrap.min.css set `[hidden] { display: none !important; }` so we also need the `!important` here to be able to override the default hidden behavior on the sphinx rendered scikit-learn.org. See: https://github.com/scikit-learn/scikit-learn/issues/21755 */display: inline-block !important;position: relative;}#sk-container-id-1 div.sk-text-repr-fallback {display: none;}</style><div id=\"sk-container-id-1\" class=\"sk-top-container\"><div class=\"sk-text-repr-fallback\"><pre>RandomizedSearchCV(cv=5, estimator=RandomForestRegressor(), n_iter=50,\n",
       "                   param_distributions={&#x27;bootstrap&#x27;: [True, False],\n",
       "                                        &#x27;max_depth&#x27;: [2, 4, 6, 8, 10],\n",
       "                                        &#x27;max_features&#x27;: [0.3, 0.48, 0.65, 0.82,\n",
       "                                                         1.0],\n",
       "                                        &#x27;min_samples_leaf&#x27;: [300, 333, 366, 400,\n",
       "                                                             433, 466, 500, 533,\n",
       "                                                             566, 600],\n",
       "                                        &#x27;n_estimators&#x27;: [10, 12, 15, 17, 20]},\n",
       "                   random_state=42)</pre><b>In a Jupyter environment, please rerun this cell to show the HTML representation or trust the notebook. <br />On GitHub, the HTML representation is unable to render, please try loading this page with nbviewer.org.</b></div><div class=\"sk-container\" hidden><div class=\"sk-item sk-dashed-wrapped\"><div class=\"sk-label-container\"><div class=\"sk-label sk-toggleable\"><input class=\"sk-toggleable__control sk-hidden--visually\" id=\"sk-estimator-id-1\" type=\"checkbox\" ><label for=\"sk-estimator-id-1\" class=\"sk-toggleable__label sk-toggleable__label-arrow\">RandomizedSearchCV</label><div class=\"sk-toggleable__content\"><pre>RandomizedSearchCV(cv=5, estimator=RandomForestRegressor(), n_iter=50,\n",
       "                   param_distributions={&#x27;bootstrap&#x27;: [True, False],\n",
       "                                        &#x27;max_depth&#x27;: [2, 4, 6, 8, 10],\n",
       "                                        &#x27;max_features&#x27;: [0.3, 0.48, 0.65, 0.82,\n",
       "                                                         1.0],\n",
       "                                        &#x27;min_samples_leaf&#x27;: [300, 333, 366, 400,\n",
       "                                                             433, 466, 500, 533,\n",
       "                                                             566, 600],\n",
       "                                        &#x27;n_estimators&#x27;: [10, 12, 15, 17, 20]},\n",
       "                   random_state=42)</pre></div></div></div><div class=\"sk-parallel\"><div class=\"sk-parallel-item\"><div class=\"sk-item\"><div class=\"sk-label-container\"><div class=\"sk-label sk-toggleable\"><input class=\"sk-toggleable__control sk-hidden--visually\" id=\"sk-estimator-id-2\" type=\"checkbox\" ><label for=\"sk-estimator-id-2\" class=\"sk-toggleable__label sk-toggleable__label-arrow\">estimator: RandomForestRegressor</label><div class=\"sk-toggleable__content\"><pre>RandomForestRegressor()</pre></div></div></div><div class=\"sk-serial\"><div class=\"sk-item\"><div class=\"sk-estimator sk-toggleable\"><input class=\"sk-toggleable__control sk-hidden--visually\" id=\"sk-estimator-id-3\" type=\"checkbox\" ><label for=\"sk-estimator-id-3\" class=\"sk-toggleable__label sk-toggleable__label-arrow\">RandomForestRegressor</label><div class=\"sk-toggleable__content\"><pre>RandomForestRegressor()</pre></div></div></div></div></div></div></div></div></div></div>"
      ],
      "text/plain": [
       "RandomizedSearchCV(cv=5, estimator=RandomForestRegressor(), n_iter=50,\n",
       "                   param_distributions={'bootstrap': [True, False],\n",
       "                                        'max_depth': [2, 4, 6, 8, 10],\n",
       "                                        'max_features': [0.3, 0.48, 0.65, 0.82,\n",
       "                                                         1.0],\n",
       "                                        'min_samples_leaf': [300, 333, 366, 400,\n",
       "                                                             433, 466, 500, 533,\n",
       "                                                             566, 600],\n",
       "                                        'n_estimators': [10, 12, 15, 17, 20]},\n",
       "                   random_state=42)"
      ]
     },
     "execution_count": 6,
     "metadata": {},
     "output_type": "execute_result"
    }
   ],
   "source": [
    "# Random search of parameters by searching across 50 different combinations\n",
    "rf_random = RandomizedSearchCV(estimator=random_forest,\n",
    "                               param_distributions=param_grid,\n",
    "                               n_iter=50,\n",
    "                               random_state=42,\n",
    "                               cv=5\n",
    "                               )\n",
    "\n",
    "# Fit the model to find the best hyperparameter values\n",
    "rf_random.fit(X_train, y_train)"
   ]
  },
  {
   "cell_type": "markdown",
   "id": "c666ea53",
   "metadata": {},
   "source": [
    "The best hyperparameters values for the random forest model is found below."
   ]
  },
  {
   "cell_type": "code",
   "execution_count": 7,
   "id": "09951e3a",
   "metadata": {},
   "outputs": [
    {
     "data": {
      "text/plain": [
       "{'n_estimators': 15,\n",
       " 'min_samples_leaf': 500,\n",
       " 'max_features': 0.82,\n",
       " 'max_depth': 8,\n",
       " 'bootstrap': True}"
      ]
     },
     "execution_count": 7,
     "metadata": {},
     "output_type": "execute_result"
    }
   ],
   "source": [
    "rf_random.best_params_"
   ]
  },
  {
   "cell_type": "markdown",
   "id": "9fdea4ad",
   "metadata": {},
   "source": [
    "In this step, we train the model created using the best hyperparameter values."
   ]
  },
  {
   "cell_type": "code",
   "execution_count": 8,
   "id": "1edf00fa",
   "metadata": {},
   "outputs": [
    {
     "data": {
      "text/html": [
       "<style>#sk-container-id-2 {color: black;background-color: white;}#sk-container-id-2 pre{padding: 0;}#sk-container-id-2 div.sk-toggleable {background-color: white;}#sk-container-id-2 label.sk-toggleable__label {cursor: pointer;display: block;width: 100%;margin-bottom: 0;padding: 0.3em;box-sizing: border-box;text-align: center;}#sk-container-id-2 label.sk-toggleable__label-arrow:before {content: \"▸\";float: left;margin-right: 0.25em;color: #696969;}#sk-container-id-2 label.sk-toggleable__label-arrow:hover:before {color: black;}#sk-container-id-2 div.sk-estimator:hover label.sk-toggleable__label-arrow:before {color: black;}#sk-container-id-2 div.sk-toggleable__content {max-height: 0;max-width: 0;overflow: hidden;text-align: left;background-color: #f0f8ff;}#sk-container-id-2 div.sk-toggleable__content pre {margin: 0.2em;color: black;border-radius: 0.25em;background-color: #f0f8ff;}#sk-container-id-2 input.sk-toggleable__control:checked~div.sk-toggleable__content {max-height: 200px;max-width: 100%;overflow: auto;}#sk-container-id-2 input.sk-toggleable__control:checked~label.sk-toggleable__label-arrow:before {content: \"▾\";}#sk-container-id-2 div.sk-estimator input.sk-toggleable__control:checked~label.sk-toggleable__label {background-color: #d4ebff;}#sk-container-id-2 div.sk-label input.sk-toggleable__control:checked~label.sk-toggleable__label {background-color: #d4ebff;}#sk-container-id-2 input.sk-hidden--visually {border: 0;clip: rect(1px 1px 1px 1px);clip: rect(1px, 1px, 1px, 1px);height: 1px;margin: -1px;overflow: hidden;padding: 0;position: absolute;width: 1px;}#sk-container-id-2 div.sk-estimator {font-family: monospace;background-color: #f0f8ff;border: 1px dotted black;border-radius: 0.25em;box-sizing: border-box;margin-bottom: 0.5em;}#sk-container-id-2 div.sk-estimator:hover {background-color: #d4ebff;}#sk-container-id-2 div.sk-parallel-item::after {content: \"\";width: 100%;border-bottom: 1px solid gray;flex-grow: 1;}#sk-container-id-2 div.sk-label:hover label.sk-toggleable__label {background-color: #d4ebff;}#sk-container-id-2 div.sk-serial::before {content: \"\";position: absolute;border-left: 1px solid gray;box-sizing: border-box;top: 0;bottom: 0;left: 50%;z-index: 0;}#sk-container-id-2 div.sk-serial {display: flex;flex-direction: column;align-items: center;background-color: white;padding-right: 0.2em;padding-left: 0.2em;position: relative;}#sk-container-id-2 div.sk-item {position: relative;z-index: 1;}#sk-container-id-2 div.sk-parallel {display: flex;align-items: stretch;justify-content: center;background-color: white;position: relative;}#sk-container-id-2 div.sk-item::before, #sk-container-id-2 div.sk-parallel-item::before {content: \"\";position: absolute;border-left: 1px solid gray;box-sizing: border-box;top: 0;bottom: 0;left: 50%;z-index: -1;}#sk-container-id-2 div.sk-parallel-item {display: flex;flex-direction: column;z-index: 1;position: relative;background-color: white;}#sk-container-id-2 div.sk-parallel-item:first-child::after {align-self: flex-end;width: 50%;}#sk-container-id-2 div.sk-parallel-item:last-child::after {align-self: flex-start;width: 50%;}#sk-container-id-2 div.sk-parallel-item:only-child::after {width: 0;}#sk-container-id-2 div.sk-dashed-wrapped {border: 1px dashed gray;margin: 0 0.4em 0.5em 0.4em;box-sizing: border-box;padding-bottom: 0.4em;background-color: white;}#sk-container-id-2 div.sk-label label {font-family: monospace;font-weight: bold;display: inline-block;line-height: 1.2em;}#sk-container-id-2 div.sk-label-container {text-align: center;}#sk-container-id-2 div.sk-container {/* jupyter's `normalize.less` sets `[hidden] { display: none; }` but bootstrap.min.css set `[hidden] { display: none !important; }` so we also need the `!important` here to be able to override the default hidden behavior on the sphinx rendered scikit-learn.org. See: https://github.com/scikit-learn/scikit-learn/issues/21755 */display: inline-block !important;position: relative;}#sk-container-id-2 div.sk-text-repr-fallback {display: none;}</style><div id=\"sk-container-id-2\" class=\"sk-top-container\"><div class=\"sk-text-repr-fallback\"><pre>RandomForestRegressor(max_depth=8, max_features=0.82, min_samples_leaf=500,\n",
       "                      n_estimators=15, random_state=42)</pre><b>In a Jupyter environment, please rerun this cell to show the HTML representation or trust the notebook. <br />On GitHub, the HTML representation is unable to render, please try loading this page with nbviewer.org.</b></div><div class=\"sk-container\" hidden><div class=\"sk-item\"><div class=\"sk-estimator sk-toggleable\"><input class=\"sk-toggleable__control sk-hidden--visually\" id=\"sk-estimator-id-4\" type=\"checkbox\" checked><label for=\"sk-estimator-id-4\" class=\"sk-toggleable__label sk-toggleable__label-arrow\">RandomForestRegressor</label><div class=\"sk-toggleable__content\"><pre>RandomForestRegressor(max_depth=8, max_features=0.82, min_samples_leaf=500,\n",
       "                      n_estimators=15, random_state=42)</pre></div></div></div></div></div>"
      ],
      "text/plain": [
       "RandomForestRegressor(max_depth=8, max_features=0.82, min_samples_leaf=500,\n",
       "                      n_estimators=15, random_state=42)"
      ]
     },
     "execution_count": 8,
     "metadata": {},
     "output_type": "execute_result"
    }
   ],
   "source": [
    "# Assign the best model to best_random_forest\n",
    "best_random_forest_random = rf_random.best_estimator_\n",
    "\n",
    "# Initialize random_state to 42\n",
    "best_random_forest_random.random_state = 42\n",
    "\n",
    "# Fit the best random forest model on the train dataset\n",
    "best_random_forest_random.fit(X_train, y_train)"
   ]
  },
  {
   "cell_type": "markdown",
   "id": "74838db2",
   "metadata": {},
   "source": [
    "# Grid search\n",
    "\n",
    "Similarly, we can find the best model using the grid search cross-validation technique. Since this method gets time-consuming because it tries out all possible combinations, we have defined fewer hyperparameter values for illustration purpose only. You may choose to specify more values for hyperparameter."
   ]
  },
  {
   "cell_type": "code",
   "execution_count": 9,
   "id": "5167bd92",
   "metadata": {},
   "outputs": [
    {
     "data": {
      "text/plain": [
       "{'n_estimators': [10, 15, 20],\n",
       " 'max_features': [0.3, 0.65, 1.0],\n",
       " 'min_samples_leaf': [300, 450, 600],\n",
       " 'bootstrap': [True, False]}"
      ]
     },
     "execution_count": 9,
     "metadata": {},
     "output_type": "execute_result"
    }
   ],
   "source": [
    "# Number of trees in random forest\n",
    "n_estimators = [int(x) for x in np.linspace(start=10, stop=20, num=3)]\n",
    "\n",
    "# Number of features to consider at every split\n",
    "max_features = [round(x, 2) for x in np.linspace(start=0.3, stop=1.0, num=3)]\n",
    "\n",
    "# Minimum number of samples required at each leaf node\n",
    "min_samples_leaf = [int(x) for x in np.linspace(start=300, stop=600, num=3)]\n",
    "\n",
    "# Method of selecting training subset for training each tree\n",
    "bootstrap = [True, False]\n",
    "\n",
    "# Create the random grid\n",
    "param_grid = {'n_estimators': n_estimators,\n",
    "              'max_features': max_features,\n",
    "              'min_samples_leaf': min_samples_leaf,\n",
    "              'bootstrap': bootstrap\n",
    "              }\n",
    "\n",
    "param_grid"
   ]
  },
  {
   "cell_type": "markdown",
   "id": "56cf77d7",
   "metadata": {},
   "source": [
    "The below code finds the best hyperparameter values."
   ]
  },
  {
   "cell_type": "code",
   "execution_count": 10,
   "id": "6f0945a8",
   "metadata": {},
   "outputs": [
    {
     "data": {
      "text/plain": [
       "{'bootstrap': True,\n",
       " 'max_features': 1.0,\n",
       " 'min_samples_leaf': 600,\n",
       " 'n_estimators': 10}"
      ]
     },
     "execution_count": 10,
     "metadata": {},
     "output_type": "execute_result"
    }
   ],
   "source": [
    "# Grid search of parameters by searching all the possible combinations\n",
    "rf_grid = GridSearchCV(estimator=random_forest,\n",
    "                       param_grid=param_grid, cv=5\n",
    "                       )\n",
    "\n",
    "# Fit the model to find the best hyperparameter values\n",
    "rf_grid.fit(X_train, y_train)\n",
    "\n",
    "# Best hyperparameter values\n",
    "rf_grid.best_params_"
   ]
  },
  {
   "cell_type": "code",
   "execution_count": 11,
   "id": "c37b7129",
   "metadata": {},
   "outputs": [
    {
     "data": {
      "text/html": [
       "<style>#sk-container-id-3 {color: black;background-color: white;}#sk-container-id-3 pre{padding: 0;}#sk-container-id-3 div.sk-toggleable {background-color: white;}#sk-container-id-3 label.sk-toggleable__label {cursor: pointer;display: block;width: 100%;margin-bottom: 0;padding: 0.3em;box-sizing: border-box;text-align: center;}#sk-container-id-3 label.sk-toggleable__label-arrow:before {content: \"▸\";float: left;margin-right: 0.25em;color: #696969;}#sk-container-id-3 label.sk-toggleable__label-arrow:hover:before {color: black;}#sk-container-id-3 div.sk-estimator:hover label.sk-toggleable__label-arrow:before {color: black;}#sk-container-id-3 div.sk-toggleable__content {max-height: 0;max-width: 0;overflow: hidden;text-align: left;background-color: #f0f8ff;}#sk-container-id-3 div.sk-toggleable__content pre {margin: 0.2em;color: black;border-radius: 0.25em;background-color: #f0f8ff;}#sk-container-id-3 input.sk-toggleable__control:checked~div.sk-toggleable__content {max-height: 200px;max-width: 100%;overflow: auto;}#sk-container-id-3 input.sk-toggleable__control:checked~label.sk-toggleable__label-arrow:before {content: \"▾\";}#sk-container-id-3 div.sk-estimator input.sk-toggleable__control:checked~label.sk-toggleable__label {background-color: #d4ebff;}#sk-container-id-3 div.sk-label input.sk-toggleable__control:checked~label.sk-toggleable__label {background-color: #d4ebff;}#sk-container-id-3 input.sk-hidden--visually {border: 0;clip: rect(1px 1px 1px 1px);clip: rect(1px, 1px, 1px, 1px);height: 1px;margin: -1px;overflow: hidden;padding: 0;position: absolute;width: 1px;}#sk-container-id-3 div.sk-estimator {font-family: monospace;background-color: #f0f8ff;border: 1px dotted black;border-radius: 0.25em;box-sizing: border-box;margin-bottom: 0.5em;}#sk-container-id-3 div.sk-estimator:hover {background-color: #d4ebff;}#sk-container-id-3 div.sk-parallel-item::after {content: \"\";width: 100%;border-bottom: 1px solid gray;flex-grow: 1;}#sk-container-id-3 div.sk-label:hover label.sk-toggleable__label {background-color: #d4ebff;}#sk-container-id-3 div.sk-serial::before {content: \"\";position: absolute;border-left: 1px solid gray;box-sizing: border-box;top: 0;bottom: 0;left: 50%;z-index: 0;}#sk-container-id-3 div.sk-serial {display: flex;flex-direction: column;align-items: center;background-color: white;padding-right: 0.2em;padding-left: 0.2em;position: relative;}#sk-container-id-3 div.sk-item {position: relative;z-index: 1;}#sk-container-id-3 div.sk-parallel {display: flex;align-items: stretch;justify-content: center;background-color: white;position: relative;}#sk-container-id-3 div.sk-item::before, #sk-container-id-3 div.sk-parallel-item::before {content: \"\";position: absolute;border-left: 1px solid gray;box-sizing: border-box;top: 0;bottom: 0;left: 50%;z-index: -1;}#sk-container-id-3 div.sk-parallel-item {display: flex;flex-direction: column;z-index: 1;position: relative;background-color: white;}#sk-container-id-3 div.sk-parallel-item:first-child::after {align-self: flex-end;width: 50%;}#sk-container-id-3 div.sk-parallel-item:last-child::after {align-self: flex-start;width: 50%;}#sk-container-id-3 div.sk-parallel-item:only-child::after {width: 0;}#sk-container-id-3 div.sk-dashed-wrapped {border: 1px dashed gray;margin: 0 0.4em 0.5em 0.4em;box-sizing: border-box;padding-bottom: 0.4em;background-color: white;}#sk-container-id-3 div.sk-label label {font-family: monospace;font-weight: bold;display: inline-block;line-height: 1.2em;}#sk-container-id-3 div.sk-label-container {text-align: center;}#sk-container-id-3 div.sk-container {/* jupyter's `normalize.less` sets `[hidden] { display: none; }` but bootstrap.min.css set `[hidden] { display: none !important; }` so we also need the `!important` here to be able to override the default hidden behavior on the sphinx rendered scikit-learn.org. See: https://github.com/scikit-learn/scikit-learn/issues/21755 */display: inline-block !important;position: relative;}#sk-container-id-3 div.sk-text-repr-fallback {display: none;}</style><div id=\"sk-container-id-3\" class=\"sk-top-container\"><div class=\"sk-text-repr-fallback\"><pre>RandomForestRegressor(min_samples_leaf=600, n_estimators=10, random_state=42)</pre><b>In a Jupyter environment, please rerun this cell to show the HTML representation or trust the notebook. <br />On GitHub, the HTML representation is unable to render, please try loading this page with nbviewer.org.</b></div><div class=\"sk-container\" hidden><div class=\"sk-item\"><div class=\"sk-estimator sk-toggleable\"><input class=\"sk-toggleable__control sk-hidden--visually\" id=\"sk-estimator-id-5\" type=\"checkbox\" checked><label for=\"sk-estimator-id-5\" class=\"sk-toggleable__label sk-toggleable__label-arrow\">RandomForestRegressor</label><div class=\"sk-toggleable__content\"><pre>RandomForestRegressor(min_samples_leaf=600, n_estimators=10, random_state=42)</pre></div></div></div></div></div>"
      ],
      "text/plain": [
       "RandomForestRegressor(min_samples_leaf=600, n_estimators=10, random_state=42)"
      ]
     },
     "execution_count": 11,
     "metadata": {},
     "output_type": "execute_result"
    }
   ],
   "source": [
    "# Assign the best model to best_random_forest\n",
    "best_random_forest_grid = rf_grid.best_estimator_\n",
    "\n",
    "# Initialize random_state to 42\n",
    "best_random_forest_grid.random_state = 42\n",
    "\n",
    "# Fit the best random forest model on the train dataset\n",
    "best_random_forest_grid.fit(X_train, y_train)"
   ]
  },
  {
   "cell_type": "markdown",
   "id": "ebed7875",
   "metadata": {},
   "source": [
    "<a id='prediction'></a>\n",
    "## Prediction & Evaluation\n",
    "\n",
    "We will compare the predictive performance of the grid model with that of the random model."
   ]
  },
  {
   "cell_type": "code",
   "execution_count": 12,
   "id": "e5e46160",
   "metadata": {},
   "outputs": [],
   "source": [
    "#Predict the next day return\n",
    "retFut1_random = best_random_forest_random.predict(X_test)\n",
    "retFut1_grid = best_random_forest_grid.predict(X_test)"
   ]
  },
  {
   "cell_type": "code",
   "execution_count": 13,
   "id": "01cfddcc",
   "metadata": {},
   "outputs": [
    {
     "name": "stdout",
     "output_type": "stream",
     "text": [
      "MAE RF with random search : 0.009097830474213293\n",
      "MAE RF with grid search : 0.009077935904365885\n",
      "MSE RF with random search : 0.00014300716305058872\n",
      "MSE RF with grid search : 0.00014256693023949123\n",
      "RMSE RF with random search : 0.011958560241541986\n",
      "RMSE RF with grid search : 0.011940139456450718\n"
     ]
    }
   ],
   "source": [
    "#Mean absolute error\n",
    "MAE_random = mean_absolute_error(y_test, retFut1_random)\n",
    "print(f\"MAE RF with random search : {MAE_random}\")\n",
    "MAE_grid = mean_absolute_error(y_test, retFut1_grid)\n",
    "print(f\"MAE RF with grid search : {MAE_grid}\")\n",
    "\n",
    "#Mean squared error\n",
    "MSE_random = mean_squared_error(y_test,retFut1_random)\n",
    "print(f\"MSE RF with random search : {MSE_random}\")\n",
    "MSE_grid = mean_squared_error(y_test,retFut1_grid)\n",
    "print(f\"MSE RF with grid search : {MSE_grid}\")\n",
    "\n",
    "#Root Mean squared error\n",
    "RMSE_random = np.sqrt(mean_squared_error(y_test,retFut1_random))\n",
    "print(f\"RMSE RF with random search : {RMSE_random}\")\n",
    "RMSE_grid = np.sqrt(mean_squared_error(y_test,retFut1_grid))\n",
    "print(f\"RMSE RF with grid search : {RMSE_grid}\")\n"
   ]
  },
  {
   "cell_type": "code",
   "execution_count": null,
   "id": "20f7481c",
   "metadata": {},
   "outputs": [],
   "source": []
  }
 ],
 "metadata": {
  "kernelspec": {
   "display_name": "Python 3 (ipykernel)",
   "language": "python",
   "name": "python3"
  },
  "language_info": {
   "codemirror_mode": {
    "name": "ipython",
    "version": 3
   },
   "file_extension": ".py",
   "mimetype": "text/x-python",
   "name": "python",
   "nbconvert_exporter": "python",
   "pygments_lexer": "ipython3",
   "version": "3.10.9"
  }
 },
 "nbformat": 4,
 "nbformat_minor": 5
}
